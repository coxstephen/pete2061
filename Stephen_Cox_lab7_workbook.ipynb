{
 "cells": [
  {
   "cell_type": "markdown",
   "metadata": {
    "colab_type": "text",
    "id": "u1YDPNtbdHDj"
   },
   "source": [
    "# PETE 2061 Mid-term Exam (Part 2) \n",
    "\n",
    "## THIS IS DUE BY 10:10 AM TODAY"
   ]
  },
  {
   "cell_type": "markdown",
   "metadata": {},
   "source": [
    "1. The production rate from an oil well has been observed to decline following either the exponential or the hyperbolic decline model. The initial oil rate ($q_i$) from this well is 10,000 bopd, and its initial decline rate ($D_i$) is 0.1% per day (which is equivalent to 0.001 per day). Write a Python code that: <br>\n",
    "    a. Reads in either \"Exp\" or \"Hyp\" using the input function, and stores the string typed in by the user into a variable named model. <br>\n",
    "    b. If the model typed in by the user is \"Exp\", use the exponential decline model, which is given as: $q = q_i \\, exp(-D_i t)$, to predict the daily oil rate for the first 3650 days (10 years) of production. <br>\n",
    "    c. If the model typed in by the user is \"Hyp\", use the hyperbolic decline model, which is given as: $q = \\frac{q_i}{(1+b D_i t)^{1/b}}$, with a b value of 0.5, to predict the daily oil rate for the first 3650 days (~10 years) of production. <br>\n",
    "    d. Plot the oil rate computed against time using the plt.plot(time,rate) function, after importing matplotlib.pyplot as plt. Remember to use the plt.show() function to display the plot in your Jupyter Notebook <br>\n",
    "    e. Compute and display the mean, minimum and standard deviation of the computed oil rates. <br>    "
   ]
  },
  {
   "cell_type": "code",
   "execution_count": 1,
   "metadata": {},
   "outputs": [
    {
     "name": "stdout",
     "output_type": "stream",
     "text": [
      "Enter 'Exp' for exponential decline, or 'Hyp' for hyperbolic decline:Exp\n",
      "[10000.          9990.00499833  9980.01998667 ...   260.43163053\n",
      "   260.17132907   259.91128779]\n"
     ]
    },
    {
     "data": {
      "image/png": "[encoded data removed]",
      "text/plain": [
       "<Figure size 432x288 with 1 Axes>"
      ]
     },
     "metadata": {
      "needs_background": "light"
     },
     "output_type": "display_data"
    },
    {
     "name": "stdout",
     "output_type": "stream",
     "text": [
      "Average Rate: 2669.1918596358223 bpd  Minimum Rate: 259.9112877875535 bpd Standard Deviation: 2564.127571370433\n"
     ]
    }
   ],
   "source": [
    "import math\n",
    "import numpy as np\n",
    "import matplotlib.pyplot as plt\n",
    "%matplotlib inline \n",
    "\n",
    "q_i = 10000\n",
    "D_i = 0.001\n",
    "timeVec = np.arange(0,3651,1)\n",
    "\n",
    "\n",
    "Exp = q_i*np.exp(-D_i*timeVec)\n",
    "Hyp = q_i/((1+(.5*D_i*timeVec))**(1/.5))\n",
    "\n",
    "rateTYPE = str(input(\"Enter 'Exp' for exponential decline, or 'Hyp' for hyperbolic decline:\"))\n",
    "\n",
    "if rateTYPE==\"Exp\":\n",
    "    print(Exp)\n",
    "    plt.plot(timeVec,Exp,'r-s')\n",
    "    plt.show()\n",
    "    \n",
    "else:\n",
    "    print(Hyp)\n",
    "    plt.plot(timeVec,Hyp,'g-s')\n",
    "    plt.show()\n",
    "\n",
    "avgExp = np.average(Exp)\n",
    "stdExp = np.std(Exp)\n",
    "minExp = np.min(Exp)\n",
    "\n",
    "avgHyp = np.average(Hyp)\n",
    "stdHyp = np.std(Hyp)\n",
    "minHyp = np.min(Hyp)\n",
    "\n",
    "if rateTYPE==\"Exp\":\n",
    "    print(f\"Average Rate: {avgExp} bpd  Minimum Rate: {minExp} bpd Standard Deviation: {stdExp}\")\n",
    "else:\n",
    "    print(f\"Average Rate: {avgHyp} bpd  Minimum Rate: {minHyp} bpd Standard Deviation: {stdHyp}\")"
   ]
  },
  {
   "cell_type": "markdown",
   "metadata": {},
   "source": [
    "2. Write a Python code that generates, prints and stores 10 random integers into a variable, and then prints the smallest even number out of these 10 numbers. If no even number is present in the 10 random integers, print a message that says \"No even number in the list\". <br>\n",
    "Hints: <br>\n",
    "    a. You can generate a random number using the code below:<br>\n",
    "    myRandInt = np.random.randint(low=1, high=20, size=10)<br>\n",
    "    b. The append function works on a list named myList as follows: <br>\n",
    "    myList.append(\"The current even number from the list should be put in here!\")"
   ]
  },
  {
   "cell_type": "code",
   "execution_count": 2,
   "metadata": {},
   "outputs": [
    {
     "name": "stdout",
     "output_type": "stream",
     "text": [
      "[55 18 52 99 93 22 98  5 92 61]\n",
      "18\n"
     ]
    }
   ],
   "source": [
    "myRandInt = np.random.randint(low=1, high=100, size=10)\n",
    "print(myRandInt)\n",
    "\n",
    "evenList = []\n",
    "for x in myRandInt:\n",
    "    if (x % 2) ==1:\n",
    "        continue\n",
    "    even = x\n",
    "    evenList.append(even)\n",
    "\n",
    "#print(evenList)\n",
    "if len(evenList) ==0:\n",
    "    print(\"No even numbers on the list\")\n",
    "else: \n",
    "    print(np.min(evenList))"
   ]
  },
  {
   "cell_type": "code",
   "execution_count": null,
   "metadata": {},
   "outputs": [],
   "source": []
  }
 ],
 "metadata": {
  "colab": {
   "collapsed_sections": [
    "sYQs3O-6dHFb",
    "8sIJ4A57dHFk",
    "_73RPOcBdHFn",
    "h9s2tfPcdHFo",
    "zt4YHVYPdHGR"
   ],
   "include_colab_link": true,
   "name": "Copy of intro-python-colab.ipynb",
   "provenance": [],
   "version": "0.3.2"
  },
  "kernelspec": {
   "display_name": "Python 3",
   "language": "python",
   "name": "python3"
  },
  "language_info": {
   "codemirror_mode": {
    "name": "ipython",
    "version": 3
   },
   "file_extension": ".py",
   "mimetype": "text/x-python",
   "name": "python",
   "nbconvert_exporter": "python",
   "pygments_lexer": "ipython3",
   "version": "3.7.3"
  }
 },
 "nbformat": 4,
 "nbformat_minor": 1
}

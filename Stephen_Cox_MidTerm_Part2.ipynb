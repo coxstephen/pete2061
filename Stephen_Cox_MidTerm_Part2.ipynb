{
 "cells": [
  {
   "cell_type": "markdown",
   "metadata": {
    "colab_type": "text",
    "id": "u1YDPNtbdHDj"
   },
   "source": [
    "# PETE 2061 Mid-term Exam (Part 2) \n",
    "\n",
    "## THIS IS DUE BY 12:20 PM TODAY"
   ]
  },
  {
   "cell_type": "markdown",
   "metadata": {},
   "source": [
    "## Instructions\n",
    "* You will be video-monitored, and any violation of the LSU Code of Student Conduct will be reported to the Office of Student Advocacy and Accountability (SAA).\n",
    "* This is an open book exam. You may use cheat sheets, lecture notes and lab notebooks in soft or hard copies. \n",
    "* You are not allowed to use the internet or your cell phones. \n",
    "* You can download all lecture materials before the exam starts, but not during the exam.\n",
    "* You are not allowed to start with this section of the finals until the first part is completed.\n",
    "* Make sure you save often, and be sure you know where the file you are working on is being saved."
   ]
  },
  {
   "cell_type": "markdown",
   "metadata": {},
   "source": [
    "1. Well-1 is the only well in a gas reservoir, referred to as \"Reservoir A\". The production rate from Well-1 is assumed to decline following either the exponential or the harmonic decline model. The initial gas rate ($q_i$) from this well is 900000 scf, and its initial decline rate ($D_i$) is 0.15% per day (which is equivalent to 0.0015 per day). Write a Python code that: <br>\n",
    "    a. **[5 points]** Reads in either \"Exp\" or \"Harm\" using the input function, and stores the string typed in by the user into a variable named \"model\". <br>\n",
    "    b. **[10 points]** If the model typed in by the user is \"Exp\", use the appropriate expoonential decline equation to compute the cumulative production for the first 3650 days (10 years) of production. <br>\n",
    "    c. **[5 points]** If the model typed in by the user is \"Harm\", use the  appropriate harmonic decline equation to predict the cumulative production for the first 3650 days (10 years) of production. <br>\n",
    "    d. **[5 points]** Plot the cumulative production versus time, based on the decline model selected. <br>\n",
    "    e. **[5 points]** Compute and display the mean, minimum, maximum and standard deviation of the cumulative production obtained."
   ]
  },
  {
   "cell_type": "code",
   "execution_count": 4,
   "metadata": {},
   "outputs": [
    {
     "name": "stdout",
     "output_type": "stream",
     "text": [
      "Enter 'Exp' for exponential decline, or 'Harm' for harmonic decline:Exp\n"
     ]
    },
    {
     "data": {
      "image/png": "[encoded data removed]",
      "text/plain": [
       "<Figure size 432x288 with 1 Axes>"
      ]
     },
     "metadata": {
      "needs_background": "light"
     },
     "output_type": "display_data"
    },
    {
     "name": "stdout",
     "output_type": "stream",
     "text": [
      "Average: 490817518.39652115 scf Minimum: 0.0 scf Maximum: 597485862.8700092 scf Standard Deviation: 144898734.20356858 scf\n"
     ]
    }
   ],
   "source": [
    "import numpy as np\n",
    "import matplotlib.pyplot as plt\n",
    "%matplotlib inline \n",
    "\n",
    "q_i = 900000 #initial gas rate in standard cubic feet\n",
    "d_i = 0.0015 #daily decline rate\n",
    "timeVec = np.arange(0,3651) #time vector array day 0-3650\n",
    "\n",
    "model = str(input(\"Enter 'Exp' for exponential decline, or 'Harm' for harmonic decline:\"))\n",
    "\n",
    "if model==\"Exp\" or model==\"exp\":\n",
    "    expDecline = q_i*np.exp(-d_i*timeVec)\n",
    "    expProd = (q_i-expDecline)/d_i\n",
    "    plt.plot(timeVec,expProd,'r-.')\n",
    "    plt.show()\n",
    "    print(f\"Average: {np.average(expProd)} scf Minimum: {np.min(expProd)} scf Maximum: {np.max(expProd)} scf Standard Deviation: {np.std(expProd)} scf\")\n",
    "    \n",
    "elif model==\"Harm\" or model==\"harm\":\n",
    "    harmDecline = q_i/(1+(d_i*timeVec))\n",
    "    harmProd = (q_i/d_i)*np.log(1+(d_i*timeVec))\n",
    "    plt.plot(timeVec,harmProd,'g--')\n",
    "    plt.show()\n",
    "    print(f\"Average: {np.average(harmProd)} scf Minimum: {np.min(harmProd)} scf Maximum: {np.max(harmProd)} scf Standard Deviation: {np.std(harmProd)} scf\")\n",
    "\n",
    "else:\n",
    "    print(\"Invalid command.\")\n",
    "    \n",
    "\n",
    "    "
   ]
  },
  {
   "cell_type": "markdown",
   "metadata": {},
   "source": [
    "2. # Volumetric Reserves Estimation\n",
    "The Gas Initially In Place (GIIP) is the amount of gas (in scf) that is initially stored in a gas reservoir. Assuming that the pore spaces in the reservoir are filled with water and gas only, the GIIP can be estimated using the formula:<br><br>\n",
    "$GIIP = 43560 \\, Ah\\phi(1-S_{wi})\\,/\\,B_{gi}$ <br><br>\n",
    "where $A$ is the area of the reservoir in acres, <br>\n",
    "$h$ is the reservoir thickness in feet (ft), <br>\n",
    "$S_{wi}$ is the initial water saturation of the reservoir. It is the ratio of the volume of water initially in the reservoir to the total pore volume in the reservoir. It can either be expressed as a fraction or percentage. <br>\n",
    "$B_{gi}$ is the initial gas formation volume factor. It is the ratio of the volume of gas at reservoir conditions (measured in units of reservoir cubic feet, rcf) to the volume of gas at standard conditions (measured in units of standard cubic feet, scf). This means that the unit of $B_{gi}$ is $\\frac{rcf}{scf}$ <br>\n",
    "$\\phi$ is the porosity of the reservoir. It is the ratio of the pore volume to the bulk volume, and can be expressed as a fraction or in percentage. <br>\n",
    "43560 is the conversion factor from acre-ft to reservoir cubic feet (rcf) <br><br>\n",
    "\n",
    "(a) **[10 points]** Given the values below for \"Reservoir A\", write a Python code that calculates and prints the GIIP value and its unit (scf). <br>\n",
    "A = 80  $\\hspace{22pt}$ # in acres <br>\n",
    "h = 30 $\\hspace{27pt}$ # in feet <br>\n",
    "$\\phi$ = 0.25 $\\hspace{19pt}$ # fraction<br>\n",
    "$S_{wi}$ = 0.35 $\\hspace{15pt}$ # fraction<br>\n",
    "$B_{gi}$ = 0.0035 $\\hspace{19pt}$ # rb/stb <br>"
   ]
  },
  {
   "cell_type": "code",
   "execution_count": 2,
   "metadata": {},
   "outputs": [
    {
     "name": "stdout",
     "output_type": "stream",
     "text": [
      "The gas initially in place in Reservoir A is: 4853828571.428572 standard cubic feet.\n"
     ]
    }
   ],
   "source": [
    "A = 80\n",
    "h = 30\n",
    "poro = 0.25\n",
    "s_wi = 0.35\n",
    "b_gi = 0.0035\n",
    "\n",
    "GIIP = (43560*A*h*poro*(1-s_wi))/b_gi\n",
    "print(f\"The gas initially in place in Reservoir A is: {GIIP} standard cubic feet.\")\n"
   ]
  },
  {
   "cell_type": "markdown",
   "metadata": {},
   "source": [
    "Recovery factor (RF) is the ratio of cumulative gas production ($G_p$) to the Gas Initially In Place ($GIIP$). That is, $RF = G_p \\, / \\, GIIP$. <br>\n",
    "(b) **[10 points]** Write a Python code that will compute and print out the recovery factor for reservoir A. To solve this problem:\n",
    "* Use your result for the maximum cumulative gas production from 1(e) as G_p.<br>\n",
    "* Use the GIIP value obtained from problem 2(a)."
   ]
  },
  {
   "cell_type": "code",
   "execution_count": 3,
   "metadata": {},
   "outputs": [
    {
     "name": "stdout",
     "output_type": "stream",
     "text": [
      "The recovery factor of Reservoir A is 0.23090415082819823.\n"
     ]
    }
   ],
   "source": [
    "G_p = np.max(harmProd)\n",
    "RF = G_p/GIIP\n",
    "print(f\"The recovery factor of Reservoir A is {RF}.\")"
   ]
  }
 ],
 "metadata": {
  "colab": {
   "collapsed_sections": [
    "sYQs3O-6dHFb",
    "8sIJ4A57dHFk",
    "_73RPOcBdHFn",
    "h9s2tfPcdHFo",
    "zt4YHVYPdHGR"
   ],
   "include_colab_link": true,
   "name": "Copy of intro-python-colab.ipynb",
   "provenance": [],
   "version": "0.3.2"
  },
  "kernelspec": {
   "display_name": "Python 3",
   "language": "python",
   "name": "python3"
  },
  "language_info": {
   "codemirror_mode": {
    "name": "ipython",
    "version": 3
   },
   "file_extension": ".py",
   "mimetype": "text/x-python",
   "name": "python",
   "nbconvert_exporter": "python",
   "pygments_lexer": "ipython3",
   "version": "3.7.3"
  }
 },
 "nbformat": 4,
 "nbformat_minor": 1
}

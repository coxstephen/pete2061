{
 "cells": [
  {
   "cell_type": "markdown",
   "metadata": {
    "colab_type": "text",
    "id": "u1YDPNtbdHDj"
   },
   "source": [
    "\n",
    "#  Inferential Statistics\n",
    "\n",
    "## PETE 2061 Lab 8 Workbook \n",
    "\n",
    "## THIS IS DUE BY 11:59 PM TODAY (Mar 13, 2020)"
   ]
  },
  {
   "cell_type": "markdown",
   "metadata": {},
   "source": [
    "1. **Using the example in \"lab8_inferential_stats.ipynb\", write a Python code to compute the confidence interval for the winning percentage of Ed Orgeron based on \"poll-larger.csv\", and show that he is the likely winner within a 95% confidence interval**\n",
    "2. Type out:\n",
    "    * (a) the 95% confidence interval\n",
    "    * (b) the point estimate\n",
    "    * (c) the margin of error."
   ]
  },
  {
   "cell_type": "code",
   "execution_count": 1,
   "metadata": {},
   "outputs": [
    {
     "name": "stdout",
     "output_type": "stream",
     "text": [
      "<class 'pandas.core.frame.DataFrame'>\n",
      "RangeIndex: 10000 entries, 0 to 9999\n",
      "Data columns (total 1 columns):\n",
      "vote    10000 non-null object\n",
      "dtypes: object(1)\n",
      "memory usage: 78.2+ KB\n"
     ]
    },
    {
     "data": {
      "text/plain": [
       "Orgeron    0.5181\n",
       "Saban      0.4819\n",
       "Name: vote, dtype: float64"
      ]
     },
     "execution_count": 1,
     "metadata": {},
     "output_type": "execute_result"
    }
   ],
   "source": [
    "import numpy as np\n",
    "import pandas as pd\n",
    "\n",
    "import matplotlib\n",
    "import matplotlib.pyplot as plt\n",
    "\n",
    "%matplotlib inline\n",
    "\n",
    "\n",
    "poll = pd.read_csv('poll-larger.csv')\n",
    "poll.info()\n",
    "poll.head()\n",
    "poll['vote'].value_counts(normalize=True) "
   ]
  },
  {
   "cell_type": "code",
   "execution_count": 2,
   "metadata": {},
   "outputs": [
    {
     "data": {
      "text/plain": [
       "<matplotlib.lines.Line2D at 0x22faca787c8>"
      ]
     },
     "execution_count": 2,
     "metadata": {},
     "output_type": "execute_result"
    },
    {
     "data": {
      "image/png": "[encoded data removed]",
      "text/plain": [
       "<Figure size 432x288 with 1 Axes>"
      ]
     },
     "metadata": {
      "needs_background": "light"
     },
     "output_type": "display_data"
    }
   ],
   "source": [
    "def basepoll(probO,n):\n",
    "    return pd.DataFrame({'vote': np.random.choice(['Orgeron','Saban'], size=n, p=[probO,1-probO])})\n",
    "\n",
    "def samplepoll(probOH,n=10000):\n",
    "    return pd.DataFrame([basepoll(probOH,n)['vote'].value_counts(normalize=True) for i in range(300)])\n",
    "\n",
    "bootpoll = samplepoll(.5181)\n",
    "bootpoll['Orgeron'].plot(kind='hist',histtype='step',bins=30, density=True)\n",
    "plt.axvline(bootpoll['Orgeron'].quantile(0.025), c='r',linestyle=':')\n",
    "plt.axvline(bootpoll['Orgeron'].quantile(0.500), c='C1')\n",
    "plt.axvline(bootpoll['Orgeron'].quantile(0.975), c='r',linestyle=':')"
   ]
  },
  {
   "cell_type": "code",
   "execution_count": 4,
   "metadata": {},
   "outputs": [
    {
     "name": "stdout",
     "output_type": "stream",
     "text": [
      "0.5077425000000001\n",
      "0.5178\n",
      "0.5272574999999999\n"
     ]
    }
   ],
   "source": [
    "print(bootpoll['Orgeron'].quantile(0.025))\n",
    "print(bootpoll['Orgeron'].quantile(0.500))\n",
    "print(bootpoll['Orgeron'].quantile(0.975))"
   ]
  },
  {
   "cell_type": "markdown",
   "metadata": {},
   "source": [
    "A)  The 95% confidence interval is (0.5077,0.5273)\n",
    "\n",
    "Estimate = 0.5178 +/- 0.00975 (at 95% confidence)\n",
    "\n",
    "B)  The point estimate is 0.5178\n",
    "\n",
    "C)  The margin of error is 0.00975 or +/- 0.975%"
   ]
  }
 ],
 "metadata": {
  "colab": {
   "collapsed_sections": [
    "sYQs3O-6dHFb",
    "8sIJ4A57dHFk",
    "_73RPOcBdHFn",
    "h9s2tfPcdHFo",
    "zt4YHVYPdHGR"
   ],
   "include_colab_link": true,
   "name": "Copy of intro-python-colab.ipynb",
   "provenance": [],
   "version": "0.3.2"
  },
  "kernelspec": {
   "display_name": "Python 3",
   "language": "python",
   "name": "python3"
  },
  "language_info": {
   "codemirror_mode": {
    "name": "ipython",
    "version": 3
   },
   "file_extension": ".py",
   "mimetype": "text/x-python",
   "name": "python",
   "nbconvert_exporter": "python",
   "pygments_lexer": "ipython3",
   "version": "3.7.4"
  }
 },
 "nbformat": 4,
 "nbformat_minor": 1
}
